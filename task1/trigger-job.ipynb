{
 "cells": [
  {
   "cell_type": "markdown",
   "metadata": {},
   "source": [
    "## Resources Specification and Job settings"
   ]
  },
  {
   "cell_type": "code",
   "execution_count": null,
   "metadata": {},
   "outputs": [],
   "source": [
    "DISK_TYPE = \"pd-ssd\"  # [ pd-ssd, pd-standard]\n",
    "DISK_SIZE = 100  # GB\n",
    "\n",
    "disk_spec = {\"boot_disk_type\": DISK_TYPE, \"boot_disk_size_gb\": DISK_SIZE}\n",
    "# Set path to save model\n",
    "MODEL_DIR = \"gs://tymestack-artifacts/aiplatform-custom-job\"\n",
    "\n",
    "# Set the worker pool specs\n",
    "worker_pool_spec = [\n",
    "    {\n",
    "        \"replica_count\": 1,\n",
    "        \"machine_spec\": {\"machine_type\": \"n-standard-4\", \"accelerator_count\": 0},\n",
    "        \"disk_spec\": disk_spec,\n",
    "        \"python_package_spec\": {\n",
    "            \"executor_image_uri\": \"us.docker.pkg.dev/vertex-ai/training/xgboost-cpu.1-6:latest\",\n",
    "            \"package_uris\": [\"gs://tymestack-artifacts\" + \"/trainer-0.1.tar.gz\"],\n",
    "            \"python_module\": \"trainer.task\",\n",
    "            \n",
    "        },\n",
    "    }\n",
    "]"
   ]
  },
  {
   "cell_type": "markdown",
   "metadata": {},
   "source": [
    "## Create a custom training job and hyperparameter tuning job"
   ]
  },
  {
   "cell_type": "code",
   "execution_count": null,
   "metadata": {},
   "outputs": [],
   "source": [
    "from google.cloud import aiplatform\n",
    "from google.cloud.aiplatform import hyperparameter_tuning as hpt\n",
    "#Init the project\n",
    "aiplatform.init(project=\"tymestack-443211\", location=\"us-central1\", staging_bucket=\"gs://tymestack-artifacts\")\n",
    "job = aiplatform.CustomJob(\n",
    "    display_name=\"xgb-housing-01\",\n",
    "    worker_pool_specs=worker_pool_spec,\n",
    "    base_output_dir=MODEL_DIR,\n",
    ")\n",
    "\n",
    "\n",
    "hpt_job = aiplatform.HyperparameterTuningJob(\n",
    "    display_name=\"xgb-housing-01\",\n",
    "    custom_job=job,\n",
    "    metric_spec={\n",
    "        \"mean_squared_error\": \"minimize\",\n",
    "    },\n",
    "    parameter_spec={\n",
    "        \"max-depth\": hpt.IntegerParameterSpec(min=10, max=100),\n",
    "        \"n-estimators\": hpt.IntegerParameterSpec(min=50, max=500),\n",
    "        \"subsample\":hpt.DoubleParameterSpec(min=0.5,max=1.0),\n",
    "        \"learning-rate\":hpt.DoubleParameterSpec(min=0.01,max=0.3)\n",
    "    },\n",
    "    search_algorithm=None,# Bayesian Search\n",
    "    max_trial_count=6,\n",
    "    parallel_trial_count=1,\n",
    ")"
   ]
  },
  {
   "cell_type": "markdown",
   "metadata": {},
   "source": [
    "## Run Job and get the trials details"
   ]
  },
  {
   "cell_type": "code",
   "execution_count": null,
   "metadata": {},
   "outputs": [],
   "source": [
    "hpt_job.run()\n",
    "print(hpt_job.trials)"
   ]
  },
  {
   "cell_type": "markdown",
   "metadata": {},
   "source": [
    "## Get the best Trials"
   ]
  },
  {
   "cell_type": "code",
   "execution_count": null,
   "metadata": {},
   "outputs": [],
   "source": [
    "# Initialize a tuple to identify the best configuration\n",
    "best = (None, None, None, 0.0)\n",
    "# Iterate through the trails and update the best configuration\n",
    "for trial in hpt_job.trials:\n",
    "    # Keep track of the best outcome\n",
    "    if float(trial.final_measurement.metrics[0].value) > best[3]:\n",
    "        try:\n",
    "            best = (\n",
    "                trial.id,\n",
    "                float(trial.parameters[0].value),\n",
    "                float(trial.parameters[1].value),\n",
    "                float(trial.final_measurement.metrics[0].value),\n",
    "            )\n",
    "        except:\n",
    "            best = (\n",
    "                trial.id,\n",
    "                float(trial.parameters[0].value),\n",
    "                None,\n",
    "                float(trial.final_measurement.metrics[0].value),\n",
    "            )\n",
    "\n",
    "# print details of the best configuration\n",
    "print(best)\n",
    "# the first index is the best model to download"
   ]
  }
 ],
 "metadata": {
  "language_info": {
   "name": "python"
  }
 },
 "nbformat": 4,
 "nbformat_minor": 2
}
